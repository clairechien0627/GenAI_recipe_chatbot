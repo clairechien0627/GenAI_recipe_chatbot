{
 "cells": [
  {
   "cell_type": "code",
   "execution_count": 1,
   "id": "efef4c5d",
   "metadata": {},
   "outputs": [],
   "source": [
    "def meta_func(obj: dict, default_meta: dict) -> dict:\n",
    "    return {\n",
    "        **default_meta,\n",
    "        \"recipe_name\":        obj.get(\"recipe_name\"),\n",
    "        \"recipe_link\":        obj.get(\"recipe_link\"),\n",
    "        \"user_name\":          obj.get(\"user_name\"),\n",
    "        \"user_recipe_count\":  obj.get(\"user_recipe\", 0),\n",
    "        \"user_fans_count\":    obj.get(\"user_fans\", 0),\n",
    "        \"view_count\":         obj.get(\"view_count\", 0),\n",
    "        \"like_count\":         obj.get(\"like_count\", 0),\n",
    "        \"together_count\":     obj.get(\"together_count\", 0),\n",
    "        \"comment_count\":      obj.get(\"comment_count\", 0),\n",
    "        \"date\":               obj.get(\"date\"),\n",
    "    }"
   ]
  },
  {
   "cell_type": "code",
   "execution_count": 2,
   "id": "a9bef755",
   "metadata": {},
   "outputs": [],
   "source": [
    "import json\n",
    "from langchain.schema import Document\n",
    "from langchain.text_splitter import RecursiveCharacterTextSplitter\n",
    "\n",
    "def build_docs_from_jsonl(path, meta_func):\n",
    "    docs = []\n",
    "    with open(path, 'r', encoding='utf-8') as f:\n",
    "        for i, line in enumerate(f):\n",
    "            obj = json.loads(line)\n",
    "            # 1. 用 Python 拼接出 page_content 字符串\n",
    "            content_parts = [\n",
    "                obj.get(\"recipe_name\") or \"\",\n",
    "                obj.get(\"description\") or \"\",\n",
    "                \", \".join(obj.get(\"tags\") or []),\n",
    "                \"\\n\".join(\n",
    "                    f\"{ing.get('name', '')} {ing.get('amount', '')}\"\n",
    "                    for ing in (obj.get(\"ingredients\") or [])\n",
    "                ),\n",
    "                \"\\n\".join(\n",
    "                    f\"{k}. {v}\"\n",
    "                    for k, v in sorted((obj.get(\"steps\") or {}).items(), key=lambda x: int(x[0]))\n",
    "                ),\n",
    "            ]\n",
    "            page_content = \"\\n\".join(content_parts)\n",
    "            # 2. 构造 metadata\n",
    "            default_meta = {\"source\": path, \"seq_num\": i}\n",
    "            metadata = meta_func(obj, default_meta)\n",
    "            docs.append(Document(page_content=page_content, metadata=metadata))\n",
    "    return docs"
   ]
  },
  {
   "cell_type": "code",
   "execution_count": 3,
   "id": "0b1a4dd9",
   "metadata": {},
   "outputs": [
    {
     "name": "stdout",
     "output_type": "stream",
     "text": [
      "かにの雪Q餅\n",
      "描述小時候的奇福餅乾與其他材料混合的口感，真是會讓人一口接一口，停不下來喔！配茶，配咖啡都很讚的。\n",
      "素食, 蔬食\n",
      "棉花糖 200g\n",
      "奶油 85g\n",
      "蔓越莓乾 60g\n",
      "奶粉 85g\n",
      "奇福餅乾\n",
      "{'source': './output/data_0510_2130.jsonl', 'seq_num': 0, 'recipe_name': 'かにの雪Q餅', 'recipe_link': 'https://icook.tw/recipes/235470', 'user_name': 'かに小玉の幸福食堂', 'user_recipe_count': 279, 'user_fans_count': 862, 'view_count': 6293, 'like_count': 213, 'together_count': 1, 'comment_count': 1, 'date': '2018-01-10'}\n"
     ]
    }
   ],
   "source": [
    "docs = build_docs_from_jsonl(\"./output/data_0510_2130.jsonl\", meta_func)\n",
    "print(docs[0].page_content[:100])\n",
    "print(docs[0].metadata)"
   ]
  },
  {
   "cell_type": "code",
   "execution_count": null,
   "id": "6168e5de",
   "metadata": {},
   "outputs": [
    {
     "name": "stdout",
     "output_type": "stream",
     "text": [
      "WARNING:tensorflow:From c:\\Users\\clair\\anaconda3\\envs\\LLM\\Lib\\site-packages\\tf_keras\\src\\losses.py:2976: The name tf.losses.sparse_softmax_cross_entropy is deprecated. Please use tf.compat.v1.losses.sparse_softmax_cross_entropy instead.\n",
      "\n"
     ]
    },
    {
     "name": "stderr",
     "output_type": "stream",
     "text": [
      "C:\\Users\\clair\\AppData\\Local\\Temp\\ipykernel_13212\\4206353224.py:18: LangChainDeprecationWarning: Since Chroma 0.4.x the manual persistence method is no longer supported as docs are automatically persisted.\n",
      "  vectordb.persist()\n"
     ]
    }
   ],
   "source": [
    "from langchain.text_splitter import RecursiveCharacterTextSplitter\n",
    "from langchain_huggingface import HuggingFaceEmbeddings\n",
    "from langchain.vectorstores import Chroma\n",
    "\n",
    "# 切成不超過 500 字，重疊 50 字\n",
    "splitter = RecursiveCharacterTextSplitter(chunk_size=1000, chunk_overlap=100)\n",
    "chunks = splitter.split_documents(docs)\n",
    "\n",
    "# 嵌入並存入 Chroma\n",
    "embeddings = HuggingFaceEmbeddings(model_name=\"sentence-transformers/all-mpnet-base-v2\")\n",
    "vectordb = Chroma.from_documents(\n",
    "    documents=chunks,\n",
    "    embedding=embeddings,\n",
    "    persist_directory=\"./recipe_chroma_db\",\n",
    "    collection_name=\"recipes\"\n",
    ")\n"
   ]
  }
 ],
 "metadata": {
  "kernelspec": {
   "display_name": "LLM",
   "language": "python",
   "name": "python3"
  },
  "language_info": {
   "codemirror_mode": {
    "name": "ipython",
    "version": 3
   },
   "file_extension": ".py",
   "mimetype": "text/x-python",
   "name": "python",
   "nbconvert_exporter": "python",
   "pygments_lexer": "ipython3",
   "version": "3.11.5"
  }
 },
 "nbformat": 4,
 "nbformat_minor": 5
}
