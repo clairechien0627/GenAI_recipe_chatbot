{
 "cells": [
  {
   "cell_type": "code",
   "execution_count": 1,
   "id": "b8cb21cf",
   "metadata": {},
   "outputs": [],
   "source": [
    "import getpass\n",
    "import os\n",
    "\n",
    "if not os.environ.get(\"GROQ_API_KEY\"):\n",
    "  os.environ[\"GROQ_API_KEY\"] = getpass.getpass(\"Enter API key for Groq: \")"
   ]
  },
  {
   "cell_type": "code",
   "execution_count": 2,
   "id": "afcd2921",
   "metadata": {},
   "outputs": [],
   "source": [
    "from langchain.chat_models import init_chat_model\n",
    "\n",
    "llm = init_chat_model(\"llama3-8b-8192\", model_provider=\"groq\")"
   ]
  },
  {
   "cell_type": "code",
   "execution_count": 3,
   "id": "9208bee2",
   "metadata": {},
   "outputs": [
    {
     "name": "stdout",
     "output_type": "stream",
     "text": [
      "WARNING:tensorflow:From c:\\Users\\clair\\anaconda3\\envs\\LLM\\Lib\\site-packages\\tf_keras\\src\\losses.py:2976: The name tf.losses.sparse_softmax_cross_entropy is deprecated. Please use tf.compat.v1.losses.sparse_softmax_cross_entropy instead.\n",
      "\n",
      "目前資料筆數： 251\n"
     ]
    }
   ],
   "source": [
    "from langchain_chroma import Chroma\n",
    "from langchain_huggingface import HuggingFaceEmbeddings\n",
    "\n",
    "embeddings = HuggingFaceEmbeddings(model_name=\"sentence-transformers/all-mpnet-base-v2\")\n",
    "\n",
    "vectorstore  = Chroma(\n",
    "    persist_directory=\"./recipe_chroma_db\",\n",
    "    collection_name=\"recipes\",\n",
    "    embedding_function=embeddings,\n",
    ")\n",
    "\n",
    "print(\"目前資料筆數：\", vectorstore ._collection.count())"
   ]
  },
  {
   "cell_type": "code",
   "execution_count": 4,
   "id": "11121034",
   "metadata": {},
   "outputs": [],
   "source": [
    "retriever = vectorstore .as_retriever()"
   ]
  },
  {
   "cell_type": "code",
   "execution_count": 5,
   "id": "75d2db07",
   "metadata": {},
   "outputs": [
    {
     "name": "stderr",
     "output_type": "stream",
     "text": [
      "c:\\Users\\clair\\anaconda3\\envs\\LLM\\Lib\\site-packages\\langsmith\\client.py:253: LangSmithMissingAPIKeyWarning: API key must be provided when using hosted LangSmith API\n",
      "  warnings.warn(\n"
     ]
    }
   ],
   "source": [
    "from langchain import hub\n",
    "\n",
    "prompt = hub.pull(\"rlm/rag-prompt\")"
   ]
  },
  {
   "cell_type": "code",
   "execution_count": 6,
   "id": "2eed927d",
   "metadata": {},
   "outputs": [],
   "source": [
    "from typing import Literal\n",
    "\n",
    "from langchain_core.prompts import ChatPromptTemplate\n",
    "from langchain_openai import ChatOpenAI\n",
    "\n",
    "from pydantic import BaseModel, Field"
   ]
  },
  {
   "cell_type": "code",
   "execution_count": 16,
   "id": "09e06f7d",
   "metadata": {},
   "outputs": [
    {
     "name": "stdout",
     "output_type": "stream",
     "text": [
      "binary_score='no'\n"
     ]
    }
   ],
   "source": [
    "### 檢索結果評分器\n",
    "\n",
    "\n",
    "# 資料模型\n",
    "class GradeDocuments(BaseModel):\n",
    "    \"\"\"對檢索到的文件相關性做二元評分。\"\"\"\n",
    "\n",
    "    binary_score: Literal[\"yes\", \"no\"] = Field(\n",
    "        description=\"判斷文件是否與問題相關，填入 'yes' 或 'no'\"\n",
    "    )\n",
    "\n",
    "\n",
    "# 具結構化輸出的 LLM\n",
    "structured_llm_grader = llm.with_structured_output(GradeDocuments)\n",
    "\n",
    "# 提示語（Prompt）\n",
    "system = \"\"\"你是一個評分員，負責判斷檢索到的文件是否和使用者問題相關。\\n\n",
    "如果文件符合使用者的條件，請評分為相關（yes）。\\n\n",
    "不需太過嚴謹，目標是過濾掉不正確與不符合使用者條件的檢索結果。\\n\n",
    "請用二元評分 'yes' 或 'no' 來表示文件是否相關。\"\"\"\n",
    "grade_prompt = ChatPromptTemplate.from_messages(\n",
    "    [\n",
    "        (\"system\", system),\n",
    "        (\"human\", \"檢索到的文件內容：\\n\\n{document}\\n\\n使用者問題：{question}\"),\n",
    "    ]\n",
    ")\n",
    "\n",
    "retrieval_grader = grade_prompt | structured_llm_grader\n",
    "question = \"梅果口味的食譜有哪些？\"\n",
    "docs = retriever.invoke(question)\n",
    "doc_txt = docs[1].page_content\n",
    "print(retrieval_grader.invoke({\"question\": question, \"document\": doc_txt}))"
   ]
  },
  {
   "cell_type": "code",
   "execution_count": 17,
   "id": "16eeba38",
   "metadata": {},
   "outputs": [
    {
     "name": "stderr",
     "output_type": "stream",
     "text": [
      "c:\\Users\\clair\\anaconda3\\envs\\LLM\\Lib\\site-packages\\langsmith\\client.py:253: LangSmithMissingAPIKeyWarning: API key must be provided when using hosted LangSmith API\n",
      "  warnings.warn(\n"
     ]
    },
    {
     "name": "stdout",
     "output_type": "stream",
     "text": [
      "梅果口味的食譜有：酒漬果乾雪Q餅、蔓越莓雪Q餅、雪Q餅等。\n"
     ]
    }
   ],
   "source": [
    "### Generate\n",
    "\n",
    "from langchain import hub\n",
    "from langchain_core.output_parsers import StrOutputParser\n",
    "\n",
    "# Prompt\n",
    "prompt = hub.pull(\"rlm/rag-prompt\")\n",
    "\n",
    "# Post-processing\n",
    "def format_docs(docs):\n",
    "    return \"\\n\\n\".join(doc.page_content for doc in docs)\n",
    "\n",
    "\n",
    "# Chain\n",
    "rag_chain = prompt | llm | StrOutputParser()\n",
    "\n",
    "# Run\n",
    "generation = rag_chain.invoke({\"context\": docs, \"question\": question})\n",
    "print(generation)"
   ]
  },
  {
   "cell_type": "code",
   "execution_count": null,
   "id": "168d5a64",
   "metadata": {},
   "outputs": [
    {
     "data": {
      "text/plain": [
       "'After analyzing the original question, I\\'ve rephrased it into a more optimized version:\\n\\n\"Can you provide a list of recipes that feature the flavor profile of guava (梅果) as a primary or notable ingredient?\"\\n\\nHere\\'s my thought process:\\n\\n1. I kept the core idea of the original question, which is to find recipes that feature guava flavor.\\n2. I rephrased the question to make it more specific and clear about the type of recipes being sought.\\n3. I used technical terms like \"flavor profile\" and \"primary or notable ingredient\" to make the question more concise and precise.\\n4. I avoided using colloquial language and simplified the question to make it more machine-readable.\\n\\nThis rephrased question can be more effectively searched in a vector database, as it provides a clearer understanding of the intended search query.'"
      ]
     },
     "execution_count": 18,
     "metadata": {},
     "output_type": "execute_result"
    }
   ],
   "source": [
    "### 問題改寫器\n",
    "\n",
    "# 提示語\n",
    "system = \"\"\"你是一個問題改寫器，負責將輸入的問題轉換成更優化的版本，\\n\n",
    "    以便在向量資料庫檢索時有更好的效果。請根據輸入問題，推理其背後的語意與意圖。\"\"\"\n",
    "\n",
    "re_write_prompt = ChatPromptTemplate.from_messages(\n",
    "    [\n",
    "        (\"system\", system),\n",
    "        (\n",
    "            \"human\",\n",
    "            \"這是原始問題：\\n\\n{question}\\n請重新表述成更好的問題，請使用繁體中文提問。\",\n",
    "        ),\n",
    "    ]\n",
    ")\n",
    "\n",
    "question_rewriter = re_write_prompt | llm | StrOutputParser()\n",
    "question_rewriter.invoke({\"question\": question})"
   ]
  },
  {
   "cell_type": "code",
   "execution_count": 19,
   "id": "6291a9eb",
   "metadata": {},
   "outputs": [],
   "source": [
    "from langchain_core.documents import Document\n",
    "from typing_extensions import List, TypedDict\n",
    "\n",
    "\n",
    "class GraphState(TypedDict):\n",
    "    question: str\n",
    "    generation: str\n",
    "    documents: List[str]"
   ]
  },
  {
   "cell_type": "code",
   "execution_count": null,
   "id": "b06502c3",
   "metadata": {},
   "outputs": [],
   "source": [
    "def retrieve(state):\n",
    "    \"\"\"\n",
    "    取得文件\n",
    "\n",
    "    參數:\n",
    "        state (dict): 當前的狀態字典\n",
    "\n",
    "    回傳:\n",
    "        state (dict): 新增 key 'documents'，包含檢索到的文件\n",
    "    \"\"\"\n",
    "    print(\"---檢索文件中---\")\n",
    "    question = state[\"question\"]\n",
    "\n",
    "    # 執行檢索\n",
    "    documents = retriever.invoke(question)\n",
    "    return {\"documents\": documents, \"question\": question}\n",
    "\n",
    "\n",
    "def generate(state):\n",
    "    \"\"\"\n",
    "    產生回答\n",
    "\n",
    "    參數:\n",
    "        state (dict): 當前的狀態字典\n",
    "\n",
    "    回傳:\n",
    "        state (dict): 新增 key 'generation'，包含 LLM 產生的回答\n",
    "    \"\"\"\n",
    "    print(\"---產生回答中---\")\n",
    "    question = state[\"question\"]\n",
    "    documents = state[\"documents\"]\n",
    "\n",
    "    # 使用 RAG 生成回答\n",
    "    generation = rag_chain.invoke({\"context\": documents, \"question\": question})\n",
    "    return {\"documents\": documents, \"question\": question, \"generation\": generation}\n"
   ]
  },
  {
   "cell_type": "code",
   "execution_count": null,
   "id": "eb622203",
   "metadata": {},
   "outputs": [],
   "source": [
    "\n",
    "def grade_documents(state):\n",
    "    \"\"\"\n",
    "    判斷檢索到的文件是否與問題相關\n",
    "\n",
    "    參數:\n",
    "        state (dict): 當前的狀態字典\n",
    "\n",
    "    回傳:\n",
    "        state (dict): 更新 'documents'，只包含通過相關性篩選的文件\n",
    "    \"\"\"\n",
    "    print(\"---評分文件與問題的相關性---\")\n",
    "    question = state[\"question\"]\n",
    "    documents = state[\"documents\"]\n",
    "\n",
    "    # 評分每份文件\n",
    "    filtered_docs = []\n",
    "    for d in documents:\n",
    "        score = retrieval_grader.invoke(\n",
    "            {\"question\": question, \"document\": d.page_content}\n",
    "        )\n",
    "        grade = score.binary_score\n",
    "        if grade == \"yes\":\n",
    "            print(\"---評分結果：文件相關---\")\n",
    "            filtered_docs.append(d)\n",
    "        else:\n",
    "            print(\"---評分結果：文件不相關，跳過---\")\n",
    "            continue\n",
    "    return {\"documents\": filtered_docs, \"question\": question}\n",
    "\n",
    "\n",
    "def transform_query(state):\n",
    "    \"\"\"\n",
    "    改寫查詢問題，產生更好的問題\n",
    "\n",
    "    參數:\n",
    "        state (dict): 當前的狀態字典\n",
    "\n",
    "    回傳:\n",
    "        state (dict): 更新 'question'，為改寫後的問題\n",
    "    \"\"\"\n",
    "    print(\"---改寫查詢問題中---\")\n",
    "    question = state[\"question\"]\n",
    "    documents = state[\"documents\"]\n",
    "\n",
    "    # 改寫問題\n",
    "    better_question = question_rewriter.invoke({\"question\": question})\n",
    "    return {\"documents\": documents, \"question\": better_question}\n",
    "\n",
    "\n",
    "def decide_to_generate(state):\n",
    "    \"\"\"\n",
    "    判斷是要產生回答，還是重新改寫問題\n",
    "\n",
    "    參數:\n",
    "        state (dict): 當前的狀態字典\n",
    "\n",
    "    回傳:\n",
    "        str: 決定下一個節點要呼叫的名稱（\"generate\" 或 \"transform_query\"）\n",
    "    \"\"\"\n",
    "    print(\"---評估已評分的文件---\")\n",
    "    question = state[\"question\"]\n",
    "    filtered_documents = state[\"documents\"]\n",
    "\n",
    "    if not filtered_documents:\n",
    "        # 所有文件皆不相關，需重新改寫問題\n",
    "        print(\"---決策：所有文件不相關，改寫查詢問題---\")\n",
    "        return \"transform_query\"\n",
    "    else:\n",
    "        # 有相關文件，產生回答\n",
    "        print(\"---決策：有相關文件，產生回答---\")\n",
    "        return \"generate\""
   ]
  },
  {
   "cell_type": "code",
   "execution_count": null,
   "id": "eb0cfc44",
   "metadata": {},
   "outputs": [],
   "source": [
    "from langgraph.graph import END, StateGraph, START\n",
    "\n",
    "workflow = StateGraph(GraphState)\n",
    "\n",
    "# Define the nodes\n",
    "workflow.add_node(\"retrieve\", retrieve)  # retrieve\n",
    "workflow.add_node(\"generate\", generate)  # generate\n",
    "\n",
    "# Build graph\n",
    "workflow.add_edge(START, \"retrieve\")\n",
    "workflow.add_edge(\"retrieve\", \"generate\")\n",
    "workflow.add_edge(\"generate\", END)\n",
    "\n",
    "# Compile\n",
    "app = workflow.compile()"
   ]
  },
  {
   "cell_type": "code",
   "execution_count": null,
   "id": "abb070b9",
   "metadata": {},
   "outputs": [],
   "source": [
    "# from langgraph.graph import END, StateGraph, START\n",
    "\n",
    "# workflow = StateGraph(GraphState)\n",
    "\n",
    "# # Define the nodes\n",
    "# workflow.add_node(\"retrieve\", retrieve)  # retrieve\n",
    "# workflow.add_node(\"grade_documents\", grade_documents)  # grade documents\n",
    "# workflow.add_node(\"generate\", generate)  # generate\n",
    "# workflow.add_node(\"transform_query\", transform_query)  # transform_query\n",
    "\n",
    "# # Build graph\n",
    "# workflow.add_edge(START, \"retrieve\")\n",
    "# workflow.add_edge(\"retrieve\", \"grade_documents\")\n",
    "# workflow.add_conditional_edges(\n",
    "#     \"grade_documents\",\n",
    "#     decide_to_generate,\n",
    "#     {\n",
    "#         \"transform_query\": \"transform_query\",\n",
    "#         \"generate\": \"generate\",\n",
    "#     },\n",
    "# )\n",
    "# workflow.add_edge(\"transform_query\", \"retrieve\")\n",
    "# workflow.add_edge(\"generate\", END)\n",
    "\n",
    "# # Compile\n",
    "# app = workflow.compile()"
   ]
  },
  {
   "cell_type": "code",
   "execution_count": 22,
   "id": "8243730e",
   "metadata": {},
   "outputs": [],
   "source": [
    "# from langgraph.checkpoint.memory import MemorySaver\n",
    "\n",
    "# memory = MemorySaver()\n",
    "# app = workflow.compile(checkpointer=memory)\n",
    "\n",
    "# # Specify an ID for the thread\n",
    "# config = {\"configurable\": {\"thread_id\": \"abc123\"}}"
   ]
  },
  {
   "cell_type": "code",
   "execution_count": 23,
   "id": "de19e269",
   "metadata": {},
   "outputs": [
    {
     "data": {
      "image/png": "[encoded data removed]",
      "text/plain": [
       "<IPython.core.display.Image object>"
      ]
     },
     "metadata": {},
     "output_type": "display_data"
    }
   ],
   "source": [
    "from IPython.display import Image, display\n",
    "\n",
    "display(Image(app.get_graph().draw_mermaid_png()))"
   ]
  },
  {
   "cell_type": "code",
   "execution_count": 24,
   "id": "57248754",
   "metadata": {},
   "outputs": [
    {
     "name": "stdout",
     "output_type": "stream",
     "text": [
      "---檢索文件中---\n",
      "{'retrieve': {'documents': [Document(id='346e09a2-ccf9-4a61-8d34-71e9254e5868', metadata={'comment_count': 1, 'date': '2021-02-17', 'like_count': 25, 'recipe_link': 'https://icook.tw/recipes/366461', 'recipe_name': '蔓越莓雪Q餅', 'seq_num': 195, 'source': './output/data_0510_2130.jsonl', 'together_count': 1, 'user_fans_count': 6, 'user_name': 'Wun xiu', 'user_recipe_count': 1, 'view_count': 11000}, page_content='蔓越莓雪Q餅\\n描述健康不黏牙的雪Q餅第一次上傳請見諒照片少\\n素食, 蔬食\\n蔓越莓 50g\\n奇福餅乾 5片\\n棉花糖 100g\\n無鹽奶油 適當\\n奶粉 適當\\n1. 1.棉花糖剪小塊\\n2.蔓越莓對剪\\n3.奇福餅乾折小塊（不要太碎）\\n2. 加入奶油、奶油融化後加入棉花糖\\n拌至融化後 加入奇福餅乾一點奶粉、蔓越莓。\\n\\n趁熱放盡模子裡（塑膠袋也可以）記得先灑上一點奶粉才不會黏\\n鋪平後、冷卻、即可切小塊食用'), Document(id='e8174fcc-a37a-49ed-9580-7467a80d7ac3', metadata={'comment_count': 3, 'date': '2020-02-01', 'like_count': 9, 'recipe_link': 'https://icook.tw/recipes/322235', 'recipe_name': '酒漬果乾雪Q餅', 'seq_num': 202, 'source': './output/data_0510_2130.jsonl', 'together_count': 3, 'user_fans_count': 2, 'user_name': 'Jennifer  Lu', 'user_recipe_count': 1, 'view_count': 6839}, page_content='酒漬果乾雪Q餅\\n描述因為老媽手開刀，兒子我自己動手做.......第一次做哦！Perfect口感上還不賴，只是老媽說果乾可以再放多一點口感會更好，食譜上是老媽調整後的數字，包裝是用前牛軋糖的包裝紙，也可在烘培材料行買小的封口包裝袋\\n素食, 蔬食\\n無鹽奶油 100g\\n奶粉 15g\\n棉花糖 300g\\n酒漬果乾 250g\\n奇福餅乾 380g\\n蔓越莓乾 30g\\n1. 無鹽奶油100g，放入不沾鍋加熱至完全溶解\\n2. 加入棉花糖300g，煮至完全溶解沒有顆粒\\n3. 加入奶粉15g，攪拌均勻\\n4. 加入酒漬果乾250g及蔓越莓乾30g與棉花糖霜攪拌均勻\\n5. 放入奇福餅乾380g，要拌到每片餅乾都包裹棉花糖哦！\\n6. 模具放入烘培紙，將成品放入模具桿平，待冷卻後就可切塊，灑上奶粉（防沾黏）就可以包裝囉！'), Document(id='c8728e9b-bccc-4908-bcad-6d14fb5ce366', metadata={'comment_count': 1, 'date': '2020-01-29', 'like_count': 55, 'recipe_link': 'https://icook.tw/recipes/322096', 'recipe_name': '伯爵茶雪Q餅', 'seq_num': 221, 'source': './output/data_0510_2130.jsonl', 'together_count': 12, 'user_fans_count': 22, 'user_name': '凱開', 'user_recipe_count': 3, 'view_count': 17000}, page_content='伯爵茶雪Q餅\\n描述不需要烤箱也可以輕鬆做的伯爵茶雪Q餅\\n素食, 蔬食\\n棉花糖 200g\\n奇福餅乾 200g\\n奶粉 30g\\n綠色山丘諾曼地無鹽發酵奶油 250g\\n伯爵茶 少許\\n1. 準備食材\\n棉花糖、奇福餅乾、奶粉、綠色山丘諾曼地無鹽發酵奶油、伯爵茶\\n2. 將奶油加入隔水加熱融化\\n3. 再加入棉花糖融化\\n快融化同時加入奇福餅乾、奶粉跟伯爵茶\\n4. 趁熱使用烘焙紙快速塑形冰到冷凍裡頭\\n幾小時候拿出來切塊即完成'), Document(id='1d6a1db0-941f-4a22-b705-44b2361e543b', metadata={'comment_count': 1, 'date': '2017-02-03', 'like_count': 196, 'recipe_link': 'https://icook.tw/recipes/186201', 'recipe_name': '雪Q餅', 'seq_num': 104, 'source': './output/data_0510_2130.jsonl', 'together_count': 2, 'user_fans_count': 4, 'user_name': 'Fang Qi Zhang', 'user_recipe_count': 2, 'view_count': 9056}, page_content='雪Q餅\\n描述吃一次就會愛上了＞＜\\n素食, 蔬食\\n棉花糖 150g\\n無鹽奶油 50g\\n奶粉 50g\\n蔓越莓 100g\\n奇福餅乾（壓碎） 200g\\n1. 依小火隔水加熱放入無鹽奶油融化＞放入棉花糖融化＞奶粉攪拌均勻＞蔓越莓＞奇福餅全攪拌均勻\\n2. 放入容器壓平等冷卻，就可以切塊了!')], 'question': '幫我找一個梅果口味的雪q餅食譜，並告訴我食材和做法。'}}\n",
      "\n",
      "----------------\n",
      "\n",
      "---評分文件與問題的相關性---\n",
      "---評分結果：文件不相關，跳過---\n",
      "---評分結果：文件相關---\n",
      "---評分結果：文件不相關，跳過---\n",
      "---評分結果：文件不相關，跳過---\n",
      "---評估已評分的文件---\n",
      "---決策：有相關文件，產生回答---\n",
      "{'grade_documents': {'documents': [Document(id='e8174fcc-a37a-49ed-9580-7467a80d7ac3', metadata={'comment_count': 3, 'date': '2020-02-01', 'like_count': 9, 'recipe_link': 'https://icook.tw/recipes/322235', 'recipe_name': '酒漬果乾雪Q餅', 'seq_num': 202, 'source': './output/data_0510_2130.jsonl', 'together_count': 3, 'user_fans_count': 2, 'user_name': 'Jennifer  Lu', 'user_recipe_count': 1, 'view_count': 6839}, page_content='酒漬果乾雪Q餅\\n描述因為老媽手開刀，兒子我自己動手做.......第一次做哦！Perfect口感上還不賴，只是老媽說果乾可以再放多一點口感會更好，食譜上是老媽調整後的數字，包裝是用前牛軋糖的包裝紙，也可在烘培材料行買小的封口包裝袋\\n素食, 蔬食\\n無鹽奶油 100g\\n奶粉 15g\\n棉花糖 300g\\n酒漬果乾 250g\\n奇福餅乾 380g\\n蔓越莓乾 30g\\n1. 無鹽奶油100g，放入不沾鍋加熱至完全溶解\\n2. 加入棉花糖300g，煮至完全溶解沒有顆粒\\n3. 加入奶粉15g，攪拌均勻\\n4. 加入酒漬果乾250g及蔓越莓乾30g與棉花糖霜攪拌均勻\\n5. 放入奇福餅乾380g，要拌到每片餅乾都包裹棉花糖哦！\\n6. 模具放入烘培紙，將成品放入模具桿平，待冷卻後就可切塊，灑上奶粉（防沾黏）就可以包裝囉！')], 'question': '幫我找一個梅果口味的雪q餅食譜，並告訴我食材和做法。'}}\n",
      "\n",
      "----------------\n",
      "\n",
      "---產生回答中---\n",
      "{'generate': {'documents': [Document(id='e8174fcc-a37a-49ed-9580-7467a80d7ac3', metadata={'comment_count': 3, 'date': '2020-02-01', 'like_count': 9, 'recipe_link': 'https://icook.tw/recipes/322235', 'recipe_name': '酒漬果乾雪Q餅', 'seq_num': 202, 'source': './output/data_0510_2130.jsonl', 'together_count': 3, 'user_fans_count': 2, 'user_name': 'Jennifer  Lu', 'user_recipe_count': 1, 'view_count': 6839}, page_content='酒漬果乾雪Q餅\\n描述因為老媽手開刀，兒子我自己動手做.......第一次做哦！Perfect口感上還不賴，只是老媽說果乾可以再放多一點口感會更好，食譜上是老媽調整後的數字，包裝是用前牛軋糖的包裝紙，也可在烘培材料行買小的封口包裝袋\\n素食, 蔬食\\n無鹽奶油 100g\\n奶粉 15g\\n棉花糖 300g\\n酒漬果乾 250g\\n奇福餅乾 380g\\n蔓越莓乾 30g\\n1. 無鹽奶油100g，放入不沾鍋加熱至完全溶解\\n2. 加入棉花糖300g，煮至完全溶解沒有顆粒\\n3. 加入奶粉15g，攪拌均勻\\n4. 加入酒漬果乾250g及蔓越莓乾30g與棉花糖霜攪拌均勻\\n5. 放入奇福餅乾380g，要拌到每片餅乾都包裹棉花糖哦！\\n6. 模具放入烘培紙，將成品放入模具桿平，待冷卻後就可切塊，灑上奶粉（防沾黏）就可以包裝囉！')], 'question': '幫我找一個梅果口味的雪q餅食譜，並告訴我食材和做法。', 'generation': \"Here's a recipe for a Mei Guo (梅果) flavored snow ice cream:\\n\\nIngredients: 無鹽奶油 100g, 奶粉 15g, 棉花糖 300g,酒漬果乾 250g, 奇福餅乾 380g, 蔓越莓乾 30g.\\n\\nInstructions: 1. Melt the butter and sugar, then add the milk and stir well. 2. Add the Mei Guo fruit and mix until well combined. 3. Add the cookie crumbs and mix until each piece is coated with the sugar mixture. 4. Pour the mixture into a mold and freeze until set.\"}}\n",
      "\n",
      "----------------\n",
      "\n"
     ]
    }
   ],
   "source": [
    "question = \"幫我找一個梅果口味的雪q餅食譜，並告訴我食材和做法。\"\n",
    "\n",
    "for step in app.stream(\n",
    "    {\"question\": question}, stream_mode=\"updates\"\n",
    "):\n",
    "    print(f\"{step}\\n\\n----------------\\n\")"
   ]
  }
 ],
 "metadata": {
  "kernelspec": {
   "display_name": "LLM",
   "language": "python",
   "name": "python3"
  },
  "language_info": {
   "codemirror_mode": {
    "name": "ipython",
    "version": 3
   },
   "file_extension": ".py",
   "mimetype": "text/x-python",
   "name": "python",
   "nbconvert_exporter": "python",
   "pygments_lexer": "ipython3",
   "version": "3.11.5"
  }
 },
 "nbformat": 4,
 "nbformat_minor": 5
}
